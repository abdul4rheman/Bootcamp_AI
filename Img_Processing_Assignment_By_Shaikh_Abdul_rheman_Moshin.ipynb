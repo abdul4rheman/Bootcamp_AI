{
 "cells": [
  {
   "cell_type": "code",
   "execution_count": 1,
   "id": "518a3a68-bb5b-46d8-b721-df03efc07c0a",
   "metadata": {},
   "outputs": [
    {
     "name": "stdout",
     "output_type": "stream",
     "text": [
      "Requirement already satisfied: numpy in c:\\users\\cccomp05\\anaconda3\\lib\\site-packages (1.26.4)\n",
      "Requirement already satisfied: matplotlib in c:\\users\\cccomp05\\anaconda3\\lib\\site-packages (3.9.2)\n",
      "Requirement already satisfied: contourpy>=1.0.1 in c:\\users\\cccomp05\\anaconda3\\lib\\site-packages (from matplotlib) (1.2.0)\n",
      "Requirement already satisfied: cycler>=0.10 in c:\\users\\cccomp05\\anaconda3\\lib\\site-packages (from matplotlib) (0.11.0)\n",
      "Requirement already satisfied: fonttools>=4.22.0 in c:\\users\\cccomp05\\anaconda3\\lib\\site-packages (from matplotlib) (4.51.0)\n",
      "Requirement already satisfied: kiwisolver>=1.3.1 in c:\\users\\cccomp05\\anaconda3\\lib\\site-packages (from matplotlib) (1.4.4)\n",
      "Requirement already satisfied: numpy>=1.23 in c:\\users\\cccomp05\\anaconda3\\lib\\site-packages (from matplotlib) (1.26.4)\n",
      "Requirement already satisfied: packaging>=20.0 in c:\\users\\cccomp05\\anaconda3\\lib\\site-packages (from matplotlib) (24.1)\n",
      "Requirement already satisfied: pillow>=8 in c:\\users\\cccomp05\\anaconda3\\lib\\site-packages (from matplotlib) (10.4.0)\n",
      "Requirement already satisfied: pyparsing>=2.3.1 in c:\\users\\cccomp05\\anaconda3\\lib\\site-packages (from matplotlib) (3.1.2)\n",
      "Requirement already satisfied: python-dateutil>=2.7 in c:\\users\\cccomp05\\anaconda3\\lib\\site-packages (from matplotlib) (2.9.0.post0)\n",
      "Requirement already satisfied: six>=1.5 in c:\\users\\cccomp05\\anaconda3\\lib\\site-packages (from python-dateutil>=2.7->matplotlib) (1.16.0)\n",
      "Collecting opencv-python\n",
      "  Downloading opencv_python-4.11.0.86-cp37-abi3-win_amd64.whl.metadata (20 kB)\n",
      "Requirement already satisfied: numpy>=1.21.2 in c:\\users\\cccomp05\\anaconda3\\lib\\site-packages (from opencv-python) (1.26.4)\n",
      "Downloading opencv_python-4.11.0.86-cp37-abi3-win_amd64.whl (39.5 MB)\n",
      "   ---------------------------------------- 0.0/39.5 MB ? eta -:--:--\n",
      "    --------------------------------------- 0.5/39.5 MB 2.8 MB/s eta 0:00:14\n",
      "   - -------------------------------------- 1.6/39.5 MB 4.4 MB/s eta 0:00:09\n",
      "   -- ------------------------------------- 2.9/39.5 MB 5.1 MB/s eta 0:00:08\n",
      "   ---- ----------------------------------- 4.2/39.5 MB 5.5 MB/s eta 0:00:07\n",
      "   ----- ---------------------------------- 5.5/39.5 MB 5.7 MB/s eta 0:00:06\n",
      "   ------ --------------------------------- 6.8/39.5 MB 5.8 MB/s eta 0:00:06\n",
      "   -------- ------------------------------- 8.7/39.5 MB 6.2 MB/s eta 0:00:05\n",
      "   ---------- ----------------------------- 10.2/39.5 MB 6.4 MB/s eta 0:00:05\n",
      "   ----------- ---------------------------- 11.8/39.5 MB 6.5 MB/s eta 0:00:05\n",
      "   ------------- -------------------------- 13.1/39.5 MB 6.6 MB/s eta 0:00:05\n",
      "   -------------- ------------------------- 14.7/39.5 MB 6.6 MB/s eta 0:00:04\n",
      "   ---------------- ----------------------- 16.3/39.5 MB 6.7 MB/s eta 0:00:04\n",
      "   ------------------ --------------------- 18.1/39.5 MB 7.0 MB/s eta 0:00:04\n",
      "   ------------------ --------------------- 18.6/39.5 MB 6.7 MB/s eta 0:00:04\n",
      "   -------------------- ------------------- 20.7/39.5 MB 6.8 MB/s eta 0:00:03\n",
      "   ----------------------- ---------------- 23.1/39.5 MB 7.1 MB/s eta 0:00:03\n",
      "   ------------------------ --------------- 24.1/39.5 MB 7.1 MB/s eta 0:00:03\n",
      "   -------------------------- ------------- 26.5/39.5 MB 7.2 MB/s eta 0:00:02\n",
      "   ---------------------------- ----------- 28.0/39.5 MB 7.3 MB/s eta 0:00:02\n",
      "   ------------------------------ --------- 29.6/39.5 MB 7.3 MB/s eta 0:00:02\n",
      "   ------------------------------- -------- 30.9/39.5 MB 7.2 MB/s eta 0:00:02\n",
      "   --------------------------------- ------ 33.0/39.5 MB 7.4 MB/s eta 0:00:01\n",
      "   ----------------------------------- ---- 35.1/39.5 MB 7.4 MB/s eta 0:00:01\n",
      "   ------------------------------------- -- 36.7/39.5 MB 7.4 MB/s eta 0:00:01\n",
      "   -------------------------------------- - 38.3/39.5 MB 7.4 MB/s eta 0:00:01\n",
      "   ---------------------------------------  39.3/39.5 MB 7.4 MB/s eta 0:00:01\n",
      "   ---------------------------------------  39.3/39.5 MB 7.4 MB/s eta 0:00:01\n",
      "   ---------------------------------------  39.3/39.5 MB 7.4 MB/s eta 0:00:01\n",
      "   ---------------------------------------- 39.5/39.5 MB 6.6 MB/s eta 0:00:00\n",
      "Installing collected packages: opencv-python\n",
      "Successfully installed opencv-python-4.11.0.86\n"
     ]
    }
   ],
   "source": [
    "!pip install numpy\n",
    "!pip install matplotlib\n",
    "!pip install opencv-python"
   ]
  },
  {
   "cell_type": "code",
   "execution_count": 3,
   "id": "7ee0c4d8-cbd9-4c0b-8fe3-fae2b75ca323",
   "metadata": {},
   "outputs": [],
   "source": [
    "import cv2\n",
    "import numpy as np\n",
    "import matplotlib.pyplot as plt"
   ]
  },
  {
   "cell_type": "code",
   "execution_count": 4,
   "id": "814cf588-65a6-4694-9773-fed61a0e1aa0",
   "metadata": {},
   "outputs": [],
   "source": [
    "img = cv2.imread(r\"C:\\Users\\cccomp05\\Pictures\\Wrestlemania2025.png\")"
   ]
  },
  {
   "cell_type": "code",
   "execution_count": 7,
   "id": "c8143af5-feae-463b-be74-befd2c7ea404",
   "metadata": {},
   "outputs": [
    {
     "name": "stdout",
     "output_type": "stream",
     "text": [
      "<class 'numpy.ndarray'>\n"
     ]
    }
   ],
   "source": [
    "print(type(img))"
   ]
  },
  {
   "cell_type": "code",
   "execution_count": 9,
   "id": "43a33acd-ec39-47a1-8fb4-71fe811c6f33",
   "metadata": {},
   "outputs": [],
   "source": [
    "cv2.imshow(\"Wrestlemania\",img)\n",
    "cv2.waitKey(0)\n",
    "cv2.destroyAllWindows()"
   ]
  },
  {
   "cell_type": "code",
   "execution_count": 11,
   "id": "75807d3d-d6ea-4aa0-8595-5eaaa365bf96",
   "metadata": {},
   "outputs": [
    {
     "name": "stdout",
     "output_type": "stream",
     "text": [
      "(624, 1140, 3)\n"
     ]
    }
   ],
   "source": [
    "print(img.shape)"
   ]
  },
  {
   "cell_type": "code",
   "execution_count": 13,
   "id": "d9179292-79f7-4ff8-a4dd-01b93e9fe377",
   "metadata": {},
   "outputs": [],
   "source": [
    "img_resize = cv2.resize(img,(203,300))"
   ]
  },
  {
   "cell_type": "code",
   "execution_count": 15,
   "id": "db5d225e-a42c-46a1-a3b6-2ef540f9de6b",
   "metadata": {},
   "outputs": [],
   "source": [
    "cv2.imshow(\"foot\",img_resize)\n",
    "cv2.waitKey(0)\n",
    "cv2.destroyAllWindows()"
   ]
  },
  {
   "cell_type": "code",
   "execution_count": 17,
   "id": "a699e04e-c7c4-4895-8379-7765da99190b",
   "metadata": {},
   "outputs": [
    {
     "name": "stdout",
     "output_type": "stream",
     "text": [
      "(300, 203, 3)\n"
     ]
    }
   ],
   "source": [
    "print(img_resize.shape)"
   ]
  },
  {
   "cell_type": "code",
   "execution_count": 19,
   "id": "500869a4-7f97-4eab-803c-f3e4a16a8692",
   "metadata": {},
   "outputs": [],
   "source": [
    "img_flip = cv2.flip(img,1)"
   ]
  },
  {
   "cell_type": "code",
   "execution_count": 21,
   "id": "7c0c63b3-098a-4d08-aae0-afcbebceaea5",
   "metadata": {},
   "outputs": [],
   "source": [
    "cv2.imshow(\"flipped Image\",img_flip)\n",
    "cv2.waitKey(0)\n",
    "cv2.destroyAllWindows()"
   ]
  },
  {
   "cell_type": "code",
   "execution_count": 23,
   "id": "f2595ba0-8d6e-4bb8-a235-61dc4dc50504",
   "metadata": {},
   "outputs": [],
   "source": [
    "img_crop = img[50:150,100:250]"
   ]
  },
  {
   "cell_type": "code",
   "execution_count": 25,
   "id": "096f771a-e3ec-4eab-a445-7f15cf72be42",
   "metadata": {},
   "outputs": [],
   "source": [
    "cv2.imshow(\"Cropped Image\",img_crop)\n",
    "cv2.waitKey(0)\n",
    "cv2.destroyAllWindows()"
   ]
  },
  {
   "cell_type": "code",
   "execution_count": 27,
   "id": "48dbe071-0fc9-4732-b734-1241a3027ff4",
   "metadata": {},
   "outputs": [
    {
     "data": {
      "text/plain": [
       "True"
      ]
     },
     "execution_count": 27,
     "metadata": {},
     "output_type": "execute_result"
    }
   ],
   "source": [
    "cv2.imwrite(r\"croppedImg16.jpg\",img_crop)"
   ]
  }
 ],
 "metadata": {
  "kernelspec": {
   "display_name": "Python [conda env:base] *",
   "language": "python",
   "name": "conda-base-py"
  },
  "language_info": {
   "codemirror_mode": {
    "name": "ipython",
    "version": 3
   },
   "file_extension": ".py",
   "mimetype": "text/x-python",
   "name": "python",
   "nbconvert_exporter": "python",
   "pygments_lexer": "ipython3",
   "version": "3.12.7"
  }
 },
 "nbformat": 4,
 "nbformat_minor": 5
}
